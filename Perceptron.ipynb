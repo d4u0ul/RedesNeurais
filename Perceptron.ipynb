{
  "nbformat": 4,
  "nbformat_minor": 0,
  "metadata": {
    "colab": {
      "name": "Perceptron.ipynb",
      "provenance": [],
      "collapsed_sections": [],
      "authorship_tag": "ABX9TyN8EzAJI+LiB7y0VOSAljht",
      "include_colab_link": true
    },
    "kernelspec": {
      "name": "python3",
      "display_name": "Python 3"
    },
    "language_info": {
      "name": "python"
    }
  },
  "cells": [
    {
      "cell_type": "markdown",
      "metadata": {
        "id": "view-in-github",
        "colab_type": "text"
      },
      "source": [
        "<a href=\"https://colab.research.google.com/github/d4u0ul/RedesNeurais/blob/main/Perceptron.ipynb\" target=\"_parent\"><img src=\"https://colab.research.google.com/assets/colab-badge.svg\" alt=\"Open In Colab\"/></a>"
      ]
    },
    {
      "cell_type": "code",
      "metadata": {
        "id": "6Be4MUGvE1PL"
      },
      "source": [
        "dados = [[1,1,1,1,1,1,1],[1,1,0,0,1,1,0],[1,0,0,1,1,0,1],[1,0,1,1,1,0,0]]"
      ],
      "execution_count": null,
      "outputs": []
    },
    {
      "cell_type": "code",
      "metadata": {
        "colab": {
          "base_uri": "https://localhost:8080/"
        },
        "id": "7cEXId0jFdOm",
        "outputId": "446e7d3b-f006-471f-f244-61eb62e80698"
      },
      "source": [
        "dados"
      ],
      "execution_count": null,
      "outputs": [
        {
          "output_type": "execute_result",
          "data": {
            "text/plain": [
              "[[1, 1, 1, 1, 1, 1, 1],\n",
              " [1, 1, 0, 0, 1, 1, 0],\n",
              " [1, 0, 0, 1, 1, 0, 1],\n",
              " [1, 0, 1, 1, 1, 0, 0]]"
            ]
          },
          "metadata": {
            "tags": []
          },
          "execution_count": 123
        }
      ]
    },
    {
      "cell_type": "code",
      "metadata": {
        "colab": {
          "base_uri": "https://localhost:8080/"
        },
        "id": "UnSVQmXJF618",
        "outputId": "fb6480cd-6925-482f-9b7a-e09cebc26862"
      },
      "source": [
        "pesos1=[0,1,2,3,4]\n",
        "#calculando os pesos da entrada do 1ª neurônio\n",
        "alfa=1\n",
        "ciclos=6\n",
        "for c in range(ciclos):\n",
        "    print(\"\\nCICLO NÚMERO %d \\n\" %c)\n",
        "    for i in dados:\n",
        "        net1 = 0\n",
        "        print('pesos1',pesos1, end = \" \")\n",
        "        for n in range(0,5):\n",
        "            net1+=i[n]*pesos1[n]\n",
        "        print(\"net1 = %d \" % net1, end = \" \")\n",
        "        y1 = 1 if net1>=0 else 0\n",
        "        if i[5]!=y1:\n",
        "            print(\"resposta = %d e y1 = %d  precisa atualizar os pesos \" %(i[5],y1), end = \" \")\n",
        "            for r in range(5):\n",
        "                pesos1[r]=pesos1[r]+alfa*(i[5]-y1)*i[r]  \n",
        "            print(\"novo pesos1 calculado \", pesos1)\n",
        "            \n",
        "        else: print(\"resposta = %d e y1 = %d  tudo certo\" %(i[5],y1))\n"
      ],
      "execution_count": null,
      "outputs": [
        {
          "output_type": "stream",
          "text": [
            "\n",
            "CICLO NÚMERO 0 \n",
            "\n",
            "pesos1 [0, 1, 2, 3, 4] net1 = 10  resposta = 1 e y1 = 1  tudo certo\n",
            "pesos1 [0, 1, 2, 3, 4] net1 = 5  resposta = 1 e y1 = 1  tudo certo\n",
            "pesos1 [0, 1, 2, 3, 4] net1 = 7  resposta = 0 e y1 = 1  precisa atualizar os pesos  novo pesos1 calculado  [-1, 1, 2, 2, 3]\n",
            "pesos1 [-1, 1, 2, 2, 3] net1 = 6  resposta = 0 e y1 = 1  precisa atualizar os pesos  novo pesos1 calculado  [-2, 1, 1, 1, 2]\n",
            "\n",
            "CICLO NÚMERO 1 \n",
            "\n",
            "pesos1 [-2, 1, 1, 1, 2] net1 = 3  resposta = 1 e y1 = 1  tudo certo\n",
            "pesos1 [-2, 1, 1, 1, 2] net1 = 1  resposta = 1 e y1 = 1  tudo certo\n",
            "pesos1 [-2, 1, 1, 1, 2] net1 = 1  resposta = 0 e y1 = 1  precisa atualizar os pesos  novo pesos1 calculado  [-3, 1, 1, 0, 1]\n",
            "pesos1 [-3, 1, 1, 0, 1] net1 = -1  resposta = 0 e y1 = 0  tudo certo\n",
            "\n",
            "CICLO NÚMERO 2 \n",
            "\n",
            "pesos1 [-3, 1, 1, 0, 1] net1 = 0  resposta = 1 e y1 = 1  tudo certo\n",
            "pesos1 [-3, 1, 1, 0, 1] net1 = -1  resposta = 1 e y1 = 0  precisa atualizar os pesos  novo pesos1 calculado  [-2, 2, 1, 0, 2]\n",
            "pesos1 [-2, 2, 1, 0, 2] net1 = 0  resposta = 0 e y1 = 1  precisa atualizar os pesos  novo pesos1 calculado  [-3, 2, 1, -1, 1]\n",
            "pesos1 [-3, 2, 1, -1, 1] net1 = -2  resposta = 0 e y1 = 0  tudo certo\n",
            "\n",
            "CICLO NÚMERO 3 \n",
            "\n",
            "pesos1 [-3, 2, 1, -1, 1] net1 = 0  resposta = 1 e y1 = 1  tudo certo\n",
            "pesos1 [-3, 2, 1, -1, 1] net1 = 0  resposta = 1 e y1 = 1  tudo certo\n",
            "pesos1 [-3, 2, 1, -1, 1] net1 = -3  resposta = 0 e y1 = 0  tudo certo\n",
            "pesos1 [-3, 2, 1, -1, 1] net1 = -2  resposta = 0 e y1 = 0  tudo certo\n",
            "\n",
            "CICLO NÚMERO 4 \n",
            "\n",
            "pesos1 [-3, 2, 1, -1, 1] net1 = 0  resposta = 1 e y1 = 1  tudo certo\n",
            "pesos1 [-3, 2, 1, -1, 1] net1 = 0  resposta = 1 e y1 = 1  tudo certo\n",
            "pesos1 [-3, 2, 1, -1, 1] net1 = -3  resposta = 0 e y1 = 0  tudo certo\n",
            "pesos1 [-3, 2, 1, -1, 1] net1 = -2  resposta = 0 e y1 = 0  tudo certo\n",
            "\n",
            "CICLO NÚMERO 5 \n",
            "\n",
            "pesos1 [-3, 2, 1, -1, 1] net1 = 0  resposta = 1 e y1 = 1  tudo certo\n",
            "pesos1 [-3, 2, 1, -1, 1] net1 = 0  resposta = 1 e y1 = 1  tudo certo\n",
            "pesos1 [-3, 2, 1, -1, 1] net1 = -3  resposta = 0 e y1 = 0  tudo certo\n",
            "pesos1 [-3, 2, 1, -1, 1] net1 = -2  resposta = 0 e y1 = 0  tudo certo\n"
          ],
          "name": "stdout"
        }
      ]
    },
    {
      "cell_type": "code",
      "metadata": {
        "colab": {
          "base_uri": "https://localhost:8080/"
        },
        "id": "JuGGj8AVI92Y",
        "outputId": "c5900633-cae0-455f-93ed-496d8fd87142"
      },
      "source": [
        "pesos2=[0,1,2,3,4]\n",
        "#calculando os pesos da entrada do 2ª neurônio\n",
        "alfa=1\n",
        "sai = False\n",
        "ciclo=0\n",
        "while(sai==False):\n",
        "    print(\"\\nCICLO NÚMERO %d \" %ciclo )\n",
        "    ys=[]\n",
        "    for i in dados:\n",
        "        net1 = 0\n",
        "        print('pesos2 ',pesos2 , end=\" \")\n",
        "        for n in range(0,5):\n",
        "            net1+=i[n]*pesos2[n]\n",
        "        print(\" net1 = %d   \" % net1, end = \" \")\n",
        "        y2 = 1 if net1>=0 else 0\n",
        "        \n",
        "        if i[6]!=y2:\n",
        "            print(\"resposta = %d e y2 = %d  precisa atualizar os pesos \" %(i[6],y2), end = \" \")\n",
        "            for r in range(5):\n",
        "                pesos2[r]=pesos2[r]+alfa*(i[6]-y2)*i[r]  \n",
        "            print(\"novo pesos2 calculado \", pesos2 )\n",
        "            ys.append(y2)\n",
        "        else: print(\"resposta = %d e y2 = %d  tudo certo\" %(i[6],y2))\n",
        "    if not ys:\n",
        "        sai = True\n",
        "    ciclo+=1\n"
      ],
      "execution_count": null,
      "outputs": [
        {
          "output_type": "stream",
          "text": [
            "\n",
            "CICLO NÚMERO 0 \n",
            "pesos2  [0, 1, 2, 3, 4]  net1 = 10    resposta = 1 e y2 = 1  tudo certo\n",
            "pesos2  [0, 1, 2, 3, 4]  net1 = 5    resposta = 0 e y2 = 1  precisa atualizar os pesos  novo pesos2 calculado  [-1, 0, 2, 3, 3]\n",
            "pesos2  [-1, 0, 2, 3, 3]  net1 = 5    resposta = 1 e y2 = 1  tudo certo\n",
            "pesos2  [-1, 0, 2, 3, 3]  net1 = 7    resposta = 0 e y2 = 1  precisa atualizar os pesos  novo pesos2 calculado  [-2, 0, 1, 2, 2]\n",
            "\n",
            "CICLO NÚMERO 1 \n",
            "pesos2  [-2, 0, 1, 2, 2]  net1 = 3    resposta = 1 e y2 = 1  tudo certo\n",
            "pesos2  [-2, 0, 1, 2, 2]  net1 = 0    resposta = 0 e y2 = 1  precisa atualizar os pesos  novo pesos2 calculado  [-3, -1, 1, 2, 1]\n",
            "pesos2  [-3, -1, 1, 2, 1]  net1 = 0    resposta = 1 e y2 = 1  tudo certo\n",
            "pesos2  [-3, -1, 1, 2, 1]  net1 = 1    resposta = 0 e y2 = 1  precisa atualizar os pesos  novo pesos2 calculado  [-4, -1, 0, 1, 0]\n",
            "\n",
            "CICLO NÚMERO 2 \n",
            "pesos2  [-4, -1, 0, 1, 0]  net1 = -4    resposta = 1 e y2 = 0  precisa atualizar os pesos  novo pesos2 calculado  [-3, 0, 1, 2, 1]\n",
            "pesos2  [-3, 0, 1, 2, 1]  net1 = -2    resposta = 0 e y2 = 0  tudo certo\n",
            "pesos2  [-3, 0, 1, 2, 1]  net1 = 0    resposta = 1 e y2 = 1  tudo certo\n",
            "pesos2  [-3, 0, 1, 2, 1]  net1 = 1    resposta = 0 e y2 = 1  precisa atualizar os pesos  novo pesos2 calculado  [-4, 0, 0, 1, 0]\n",
            "\n",
            "CICLO NÚMERO 3 \n",
            "pesos2  [-4, 0, 0, 1, 0]  net1 = -3    resposta = 1 e y2 = 0  precisa atualizar os pesos  novo pesos2 calculado  [-3, 1, 1, 2, 1]\n",
            "pesos2  [-3, 1, 1, 2, 1]  net1 = -1    resposta = 0 e y2 = 0  tudo certo\n",
            "pesos2  [-3, 1, 1, 2, 1]  net1 = 0    resposta = 1 e y2 = 1  tudo certo\n",
            "pesos2  [-3, 1, 1, 2, 1]  net1 = 1    resposta = 0 e y2 = 1  precisa atualizar os pesos  novo pesos2 calculado  [-4, 1, 0, 1, 0]\n",
            "\n",
            "CICLO NÚMERO 4 \n",
            "pesos2  [-4, 1, 0, 1, 0]  net1 = -2    resposta = 1 e y2 = 0  precisa atualizar os pesos  novo pesos2 calculado  [-3, 2, 1, 2, 1]\n",
            "pesos2  [-3, 2, 1, 2, 1]  net1 = 0    resposta = 0 e y2 = 1  precisa atualizar os pesos  novo pesos2 calculado  [-4, 1, 1, 2, 0]\n",
            "pesos2  [-4, 1, 1, 2, 0]  net1 = -2    resposta = 1 e y2 = 0  precisa atualizar os pesos  novo pesos2 calculado  [-3, 1, 1, 3, 1]\n",
            "pesos2  [-3, 1, 1, 3, 1]  net1 = 2    resposta = 0 e y2 = 1  precisa atualizar os pesos  novo pesos2 calculado  [-4, 1, 0, 2, 0]\n",
            "\n",
            "CICLO NÚMERO 5 \n",
            "pesos2  [-4, 1, 0, 2, 0]  net1 = -1    resposta = 1 e y2 = 0  precisa atualizar os pesos  novo pesos2 calculado  [-3, 2, 1, 3, 1]\n",
            "pesos2  [-3, 2, 1, 3, 1]  net1 = 0    resposta = 0 e y2 = 1  precisa atualizar os pesos  novo pesos2 calculado  [-4, 1, 1, 3, 0]\n",
            "pesos2  [-4, 1, 1, 3, 0]  net1 = -1    resposta = 1 e y2 = 0  precisa atualizar os pesos  novo pesos2 calculado  [-3, 1, 1, 4, 1]\n",
            "pesos2  [-3, 1, 1, 4, 1]  net1 = 3    resposta = 0 e y2 = 1  precisa atualizar os pesos  novo pesos2 calculado  [-4, 1, 0, 3, 0]\n",
            "\n",
            "CICLO NÚMERO 6 \n",
            "pesos2  [-4, 1, 0, 3, 0]  net1 = 0    resposta = 1 e y2 = 1  tudo certo\n",
            "pesos2  [-4, 1, 0, 3, 0]  net1 = -3    resposta = 0 e y2 = 0  tudo certo\n",
            "pesos2  [-4, 1, 0, 3, 0]  net1 = -1    resposta = 1 e y2 = 0  precisa atualizar os pesos  novo pesos2 calculado  [-3, 1, 0, 4, 1]\n",
            "pesos2  [-3, 1, 0, 4, 1]  net1 = 2    resposta = 0 e y2 = 1  precisa atualizar os pesos  novo pesos2 calculado  [-4, 1, -1, 3, 0]\n",
            "\n",
            "CICLO NÚMERO 7 \n",
            "pesos2  [-4, 1, -1, 3, 0]  net1 = -1    resposta = 1 e y2 = 0  precisa atualizar os pesos  novo pesos2 calculado  [-3, 2, 0, 4, 1]\n",
            "pesos2  [-3, 2, 0, 4, 1]  net1 = 0    resposta = 0 e y2 = 1  precisa atualizar os pesos  novo pesos2 calculado  [-4, 1, 0, 4, 0]\n",
            "pesos2  [-4, 1, 0, 4, 0]  net1 = 0    resposta = 1 e y2 = 1  tudo certo\n",
            "pesos2  [-4, 1, 0, 4, 0]  net1 = 0    resposta = 0 e y2 = 1  precisa atualizar os pesos  novo pesos2 calculado  [-5, 1, -1, 3, -1]\n",
            "\n",
            "CICLO NÚMERO 8 \n",
            "pesos2  [-5, 1, -1, 3, -1]  net1 = -3    resposta = 1 e y2 = 0  precisa atualizar os pesos  novo pesos2 calculado  [-4, 2, 0, 4, 0]\n",
            "pesos2  [-4, 2, 0, 4, 0]  net1 = -2    resposta = 0 e y2 = 0  tudo certo\n",
            "pesos2  [-4, 2, 0, 4, 0]  net1 = 0    resposta = 1 e y2 = 1  tudo certo\n",
            "pesos2  [-4, 2, 0, 4, 0]  net1 = 0    resposta = 0 e y2 = 1  precisa atualizar os pesos  novo pesos2 calculado  [-5, 2, -1, 3, -1]\n",
            "\n",
            "CICLO NÚMERO 9 \n",
            "pesos2  [-5, 2, -1, 3, -1]  net1 = -2    resposta = 1 e y2 = 0  precisa atualizar os pesos  novo pesos2 calculado  [-4, 3, 0, 4, 0]\n",
            "pesos2  [-4, 3, 0, 4, 0]  net1 = -1    resposta = 0 e y2 = 0  tudo certo\n",
            "pesos2  [-4, 3, 0, 4, 0]  net1 = 0    resposta = 1 e y2 = 1  tudo certo\n",
            "pesos2  [-4, 3, 0, 4, 0]  net1 = 0    resposta = 0 e y2 = 1  precisa atualizar os pesos  novo pesos2 calculado  [-5, 3, -1, 3, -1]\n",
            "\n",
            "CICLO NÚMERO 10 \n",
            "pesos2  [-5, 3, -1, 3, -1]  net1 = -1    resposta = 1 e y2 = 0  precisa atualizar os pesos  novo pesos2 calculado  [-4, 4, 0, 4, 0]\n",
            "pesos2  [-4, 4, 0, 4, 0]  net1 = 0    resposta = 0 e y2 = 1  precisa atualizar os pesos  novo pesos2 calculado  [-5, 3, 0, 4, -1]\n",
            "pesos2  [-5, 3, 0, 4, -1]  net1 = -2    resposta = 1 e y2 = 0  precisa atualizar os pesos  novo pesos2 calculado  [-4, 3, 0, 5, 0]\n",
            "pesos2  [-4, 3, 0, 5, 0]  net1 = 1    resposta = 0 e y2 = 1  precisa atualizar os pesos  novo pesos2 calculado  [-5, 3, -1, 4, -1]\n",
            "\n",
            "CICLO NÚMERO 11 \n",
            "pesos2  [-5, 3, -1, 4, -1]  net1 = 0    resposta = 1 e y2 = 1  tudo certo\n",
            "pesos2  [-5, 3, -1, 4, -1]  net1 = -3    resposta = 0 e y2 = 0  tudo certo\n",
            "pesos2  [-5, 3, -1, 4, -1]  net1 = -2    resposta = 1 e y2 = 0  precisa atualizar os pesos  novo pesos2 calculado  [-4, 3, -1, 5, 0]\n",
            "pesos2  [-4, 3, -1, 5, 0]  net1 = 0    resposta = 0 e y2 = 1  precisa atualizar os pesos  novo pesos2 calculado  [-5, 3, -2, 4, -1]\n",
            "\n",
            "CICLO NÚMERO 12 \n",
            "pesos2  [-5, 3, -2, 4, -1]  net1 = -1    resposta = 1 e y2 = 0  precisa atualizar os pesos  novo pesos2 calculado  [-4, 4, -1, 5, 0]\n",
            "pesos2  [-4, 4, -1, 5, 0]  net1 = 0    resposta = 0 e y2 = 1  precisa atualizar os pesos  novo pesos2 calculado  [-5, 3, -1, 5, -1]\n",
            "pesos2  [-5, 3, -1, 5, -1]  net1 = -1    resposta = 1 e y2 = 0  precisa atualizar os pesos  novo pesos2 calculado  [-4, 3, -1, 6, 0]\n",
            "pesos2  [-4, 3, -1, 6, 0]  net1 = 1    resposta = 0 e y2 = 1  precisa atualizar os pesos  novo pesos2 calculado  [-5, 3, -2, 5, -1]\n",
            "\n",
            "CICLO NÚMERO 13 \n",
            "pesos2  [-5, 3, -2, 5, -1]  net1 = 0    resposta = 1 e y2 = 1  tudo certo\n",
            "pesos2  [-5, 3, -2, 5, -1]  net1 = -3    resposta = 0 e y2 = 0  tudo certo\n",
            "pesos2  [-5, 3, -2, 5, -1]  net1 = -1    resposta = 1 e y2 = 0  precisa atualizar os pesos  novo pesos2 calculado  [-4, 3, -2, 6, 0]\n",
            "pesos2  [-4, 3, -2, 6, 0]  net1 = 0    resposta = 0 e y2 = 1  precisa atualizar os pesos  novo pesos2 calculado  [-5, 3, -3, 5, -1]\n",
            "\n",
            "CICLO NÚMERO 14 \n",
            "pesos2  [-5, 3, -3, 5, -1]  net1 = -1    resposta = 1 e y2 = 0  precisa atualizar os pesos  novo pesos2 calculado  [-4, 4, -2, 6, 0]\n",
            "pesos2  [-4, 4, -2, 6, 0]  net1 = 0    resposta = 0 e y2 = 1  precisa atualizar os pesos  novo pesos2 calculado  [-5, 3, -2, 6, -1]\n",
            "pesos2  [-5, 3, -2, 6, -1]  net1 = 0    resposta = 1 e y2 = 1  tudo certo\n",
            "pesos2  [-5, 3, -2, 6, -1]  net1 = -2    resposta = 0 e y2 = 0  tudo certo\n",
            "\n",
            "CICLO NÚMERO 15 \n",
            "pesos2  [-5, 3, -2, 6, -1]  net1 = 1    resposta = 1 e y2 = 1  tudo certo\n",
            "pesos2  [-5, 3, -2, 6, -1]  net1 = -3    resposta = 0 e y2 = 0  tudo certo\n",
            "pesos2  [-5, 3, -2, 6, -1]  net1 = 0    resposta = 1 e y2 = 1  tudo certo\n",
            "pesos2  [-5, 3, -2, 6, -1]  net1 = -2    resposta = 0 e y2 = 0  tudo certo\n"
          ],
          "name": "stdout"
        }
      ]
    }
  ]
}